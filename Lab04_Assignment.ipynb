{
 "cells": [
  {
   "cell_type": "markdown",
   "id": "b1a91042",
   "metadata": {},
   "source": [
    "***Task 1: Advanced Exploratory Data Analysis (EDA) & Feature Engineering***"
   ]
  },
  {
   "cell_type": "code",
   "execution_count": 14,
   "id": "d37257ef",
   "metadata": {},
   "outputs": [],
   "source": [
    "import numpy as np\n",
    "import pandas as pd\n",
    "import matplotlib.pyplot as plt\n",
    "import seaborn as sns\n",
    "import sklearn \n",
    "from datetime import datetime"
   ]
  },
  {
   "cell_type": "code",
   "execution_count": null,
   "id": "9faf6eed",
   "metadata": {},
   "outputs": [
    {
     "data": {
      "image/png": "[encoded data removed]",
      "text/plain": [
       "<Figure size 1500x500 with 3 Axes>"
      ]
     },
     "metadata": {},
     "output_type": "display_data"
    },
    {
     "name": "stdout",
     "output_type": "stream",
     "text": [
      "           id       date     price  bedrooms  bathrooms  sqft_living  \\\n",
      "0  7129300520 2014-10-13  221900.0         3       1.00         1180   \n",
      "1  6414100192 2014-12-09  538000.0         3       2.25         2570   \n",
      "2  5631500400 2015-02-25  180000.0         2       1.00          770   \n",
      "3  2487200875 2014-12-09  604000.0         4       3.00         1960   \n",
      "4  1954400510 2015-02-18  510000.0         3       2.00         1680   \n",
      "\n",
      "   sqft_lot  floors  waterfront  view  ...     long  sqft_living15  \\\n",
      "0    5650.0     1.0           0     0  ... -122.257           1340   \n",
      "1    7242.0     2.0           0     0  ... -122.319           1690   \n",
      "2   10000.0     1.0           0     0  ... -122.233           2720   \n",
      "3    5000.0     1.0           0     0  ... -122.393           1360   \n",
      "4    8080.0     1.0           0     0  ... -122.045           1800   \n",
      "\n",
      "   sqft_lot15  sale_year  sale_month  house_age  was_renovated  \\\n",
      "0        5650       2014          10         59              0   \n",
      "1        7639       2014          12         63              1   \n",
      "2        8062       2015           2         82              0   \n",
      "3        5000       2014          12         49              0   \n",
      "4        7503       2015           2         28              0   \n",
      "\n",
      "   age_since_renovation  sqft_living_per_floor  bath_per_bed  \n",
      "0                    59                 1180.0      0.333333  \n",
      "1                    23                 1285.0      0.750000  \n",
      "2                    82                  770.0      0.500000  \n",
      "3                    49                 1960.0      0.750000  \n",
      "4                    28                 1680.0      0.666667  \n",
      "\n",
      "[5 rows x 28 columns]\n"
     ]
    },
    {
     "name": "stderr",
     "output_type": "stream",
     "text": [
      "C:\\Users\\RAM PRAHASITH\\AppData\\Local\\Temp\\ipykernel_19620\\2594043123.py:66: FutureWarning: A value is trying to be set on a copy of a DataFrame or Series through chained assignment using an inplace method.\n",
      "The behavior will change in pandas 3.0. This inplace method will never work because the intermediate object on which we are setting values always behaves as a copy.\n",
      "\n",
      "For example, when doing 'df[col].method(value, inplace=True)', try using 'df.method({col: value}, inplace=True)' or df[col] = df[col].method(value) instead, to perform the operation inplace on the original object.\n",
      "\n",
      "\n",
      "  df['floors'].replace(0, np.nan, inplace=True)\n",
      "C:\\Users\\RAM PRAHASITH\\AppData\\Local\\Temp\\ipykernel_19620\\2594043123.py:67: FutureWarning: A value is trying to be set on a copy of a DataFrame or Series through chained assignment using an inplace method.\n",
      "The behavior will change in pandas 3.0. This inplace method will never work because the intermediate object on which we are setting values always behaves as a copy.\n",
      "\n",
      "For example, when doing 'df[col].method(value, inplace=True)', try using 'df.method({col: value}, inplace=True)' or df[col] = df[col].method(value) instead, to perform the operation inplace on the original object.\n",
      "\n",
      "\n",
      "  df['bedrooms'].replace(0, np.nan, inplace=True)\n",
      "C:\\Users\\RAM PRAHASITH\\AppData\\Local\\Temp\\ipykernel_19620\\2594043123.py:70: FutureWarning: A value is trying to be set on a copy of a DataFrame or Series through chained assignment using an inplace method.\n",
      "The behavior will change in pandas 3.0. This inplace method will never work because the intermediate object on which we are setting values always behaves as a copy.\n",
      "\n",
      "For example, when doing 'df[col].method(value, inplace=True)', try using 'df.method({col: value}, inplace=True)' or df[col] = df[col].method(value) instead, to perform the operation inplace on the original object.\n",
      "\n",
      "\n",
      "  df['sqft_living_per_floor'].fillna(0, inplace=True)\n",
      "C:\\Users\\RAM PRAHASITH\\AppData\\Local\\Temp\\ipykernel_19620\\2594043123.py:73: FutureWarning: A value is trying to be set on a copy of a DataFrame or Series through chained assignment using an inplace method.\n",
      "The behavior will change in pandas 3.0. This inplace method will never work because the intermediate object on which we are setting values always behaves as a copy.\n",
      "\n",
      "For example, when doing 'df[col].method(value, inplace=True)', try using 'df.method({col: value}, inplace=True)' or df[col] = df[col].method(value) instead, to perform the operation inplace on the original object.\n",
      "\n",
      "\n",
      "  df['bath_per_bed'].fillna(0, inplace=True)\n"
     ]
    }
   ],
   "source": [
    "# Loading the King County house price dataset\n",
    "df = pd.read_csv(\"C:/Users/RAM PRAHASITH/OneDrive/Desktop/F ML/data-preprocessing-and-regression-with-scikit-learn-Prahas2001/kc_house_data.csv\")\n",
    "\n",
    "# 1. Introducing 5% missing data randomly in sqft_lot and bathrooms\n",
    "\n",
    "np.random.seed(42)\n",
    "for col in ['sqft_lot', 'bathrooms']:\n",
    "    n_missing = int(0.05 * len(df))\n",
    "    missing_indices = np.random.choice(df.index, n_missing, replace=False)\n",
    "    df.loc[missing_indices, col] = np.nan\n",
    "\n",
    "# 2. Outlier Detection and Removal\n",
    "plt.figure(figsize=(15,5))\n",
    "\n",
    "plt.subplot(1,3,1)\n",
    "sns.boxplot(x=df['price'])\n",
    "plt.title('Boxplot of Price')\n",
    "\n",
    "plt.subplot(1,3,2)\n",
    "sns.boxplot(x=df['sqft_living'])\n",
    "plt.title('Boxplot of Sqft Living')\n",
    "\n",
    "plt.subplot(1,3,3)\n",
    "sns.boxplot(x=df['bedrooms'])\n",
    "plt.title('Boxplot of Bedrooms')\n",
    "\n",
    "plt.tight_layout()\n",
    "plt.show()\n",
    "\n",
    "for col in ['price', 'sqft_living', 'bedrooms']:\n",
    "    Q1 = df[col].quantile(0.25)\n",
    "    Q3 = df[col].quantile(0.75)\n",
    "    IQR = Q3 - Q1\n",
    "    lower_bound = Q1 - 1.5 * IQR\n",
    "    upper_bound = Q3 + 1.5 * IQR\n",
    "    df = df[(df[col] >= lower_bound) & (df[col] <= upper_bound)]\n",
    "\n",
    "\n",
    "# 3. Feature Engineering \n",
    "df['date'] = pd.to_datetime(df['date'])\n",
    "\n",
    "\n",
    "df['sale_year'] = df['date'].dt.year\n",
    "df['sale_month'] = df['date'].dt.month\n",
    "\n",
    "\n",
    "df['house_age'] = df['sale_year'] - df['yr_built']\n",
    "\n",
    "\n",
    "df['was_renovated'] = np.where(df['yr_renovated'] != 0, 1, 0)\n",
    "\n",
    "\n",
    "df['age_since_renovation'] = np.where(df['was_renovated'] == 1, df['sale_year'] - df['yr_renovated'], df['house_age'])\n",
    "\n",
    "\n",
    "df['floors'].replace(0, np.nan, inplace=True)\n",
    "df['bedrooms'].replace(0, np.nan, inplace=True)\n",
    "\n",
    "df['sqft_living_per_floor'] = df['sqft_living'] / df['floors']\n",
    "df['sqft_living_per_floor'].fillna(0, inplace=True)  \n",
    "\n",
    "df['bath_per_bed'] = df['bathrooms'] / df['bedrooms']\n",
    "df['bath_per_bed'].fillna(0, inplace=True)\n",
    "\n",
    "\n",
    "print(df.head())\n"
   ]
  },
  {
   "cell_type": "markdown",
   "id": "df893efe",
   "metadata": {},
   "source": [
    "***Task 2: Build a Sophisticated Preprocessing Pipeline***"
   ]
  },
  {
   "cell_type": "code",
   "execution_count": null,
   "id": "b37a6dbb",
   "metadata": {},
   "outputs": [],
   "source": [
    "from sklearn.pipeline import Pipeline\n",
    "from sklearn.compose import ColumnTransformer\n",
    "from sklearn.impute import SimpleImputer\n",
    "from sklearn.preprocessing import StandardScaler, OneHotEncoder\n",
    "\n",
    "numerical_features = ['sqft_living', 'house_age', 'sqft_lot', 'bathrooms','sqft_living_per_floor', 'bath_per_bed', 'age_since_renovation']\n",
    "\n",
    "categorical_features = ['zipcode']\n",
    "\n",
    "passthrough_features = ['grade', 'condition', 'was_renovated', 'sale_year', 'sale_month']\n",
    "\n",
    "\n",
    "numerical_pipeline = Pipeline(steps=[('imputer', SimpleImputer(strategy='median')), ('scaler', StandardScaler())])\n",
    "\n",
    "categorical_pipeline = Pipeline(steps=[('onehot', OneHotEncoder(handle_unknown='ignore'))])\n",
    "\n",
    "preprocessor = ColumnTransformer(transformers=[('num', numerical_pipeline, numerical_features), ('cat', categorical_pipeline, categorical_features), ('pass', 'passthrough', passthrough_features)])\n"
   ]
  },
  {
   "cell_type": "markdown",
   "id": "128550f8",
   "metadata": {},
   "source": [
    "***Task 3: Model Training and Hyperparameter Tuning***"
   ]
  },
  {
   "cell_type": "code",
   "execution_count": 18,
   "id": "a930a01d",
   "metadata": {},
   "outputs": [
    {
     "name": "stdout",
     "output_type": "stream",
     "text": [
      "Training and tuning GradientBoosting...\n",
      "Best parameters for GradientBoosting: {'regressor__max_depth': 5, 'regressor__n_estimators': 200}\n",
      "Training and tuning RandomForest...\n",
      "Best parameters for RandomForest: {'regressor__max_depth': None, 'regressor__n_estimators': 200}\n",
      "Training and tuning XGBoost...\n",
      "Best parameters for XGBoost: {'regressor__max_depth': 3, 'regressor__n_estimators': 200}\n",
      "Training and tuning LinearRegression...\n",
      "No hyperparameters to tune for LinearRegression.\n"
     ]
    }
   ],
   "source": [
    "from sklearn.linear_model import LinearRegression\n",
    "from sklearn.model_selection import GridSearchCV, train_test_split\n",
    "from sklearn.ensemble import GradientBoostingRegressor, RandomForestRegressor\n",
    "from xgboost import XGBRegressor\n",
    "from sklearn.metrics import mean_absolute_error, mean_squared_error, r2_score\n",
    "import numpy as np\n",
    "\n",
    "X = df.drop(columns=['price', 'date'])\n",
    "y = df['price']\n",
    "\n",
    "\n",
    "X_train, X_test, y_train, y_test = train_test_split(X, y, test_size=0.2, random_state=42)\n",
    "\n",
    "# Defining models \n",
    "models = {\n",
    "    'GradientBoosting': GradientBoostingRegressor(random_state=42),\n",
    "    'RandomForest': RandomForestRegressor(random_state=42),\n",
    "    'XGBoost': XGBRegressor(random_state=42, objective='reg:squarederror'),\n",
    "    'LinearRegression': LinearRegression()}\n",
    "\n",
    "# Hyperparameter tuning\n",
    "param_grids = {\n",
    "    'GradientBoosting': {'regressor__n_estimators': [100, 200],'regressor__max_depth': [3, 5]},\n",
    "    'RandomForest': {'regressor__n_estimators': [100, 200], 'regressor__max_depth': [None, 10]},\n",
    "    'XGBoost': {'regressor__n_estimators': [100, 200], 'regressor__max_depth': [3, 6]},\n",
    "    'LinearRegression': {}\n",
    "    }\n",
    "\n",
    "best_models = {}\n",
    "\n",
    "for name, model in models.items():\n",
    "    print(f\"Training and tuning {name}...\")\n",
    "    pipeline = Pipeline(steps=[('preprocessor', preprocessor), ('regressor', model)])\n",
    "    \n",
    "    grid_search = GridSearchCV(pipeline, param_grids[name], cv=3, n_jobs=-1, scoring='neg_mean_squared_error')\n",
    "    grid_search.fit(X_train, y_train)\n",
    "    best_models[name] = grid_search\n",
    "    if param_grids[name]:\n",
    "        print(f\"Best parameters for {name}: {grid_search.best_params_}\")\n",
    "    else:\n",
    "        print(f\"No hyperparameters to tune for {name}.\")\n"
   ]
  },
  {
   "cell_type": "markdown",
   "id": "d0f15c52",
   "metadata": {},
   "source": [
    "***Task 4: Evaluation and Interpretation***"
   ]
  },
  {
   "cell_type": "code",
   "execution_count": 19,
   "id": "d30d2367",
   "metadata": {},
   "outputs": [
    {
     "name": "stdout",
     "output_type": "stream",
     "text": [
      "GradientBoosting - RMSE: 86747.26, MAE: 62182.35, R2: 0.82\n",
      "RandomForest - RMSE: 95608.17, MAE: 67220.27, R2: 0.78\n",
      "XGBoost - RMSE: 81600.60, MAE: 58259.70, R2: 0.84\n",
      "LinearRegression - RMSE: 87296.72, MAE: 63697.06, R2: 0.82\n",
      "\n",
      "Best overall model: XGBoost\n"
     ]
    }
   ],
   "source": [
    "results = []\n",
    "\n",
    "for name, gs in best_models.items():\n",
    "    y_pred = gs.predict(X_test)\n",
    "    rmse = np.sqrt(mean_squared_error(y_test, y_pred))\n",
    "    mae = mean_absolute_error(y_test, y_pred)\n",
    "    r2 = r2_score(y_test, y_pred)\n",
    "    results.append({'Model': name, 'RMSE': rmse, 'MAE': mae, 'R2': r2})\n",
    "    print(f\"{name} - RMSE: {rmse:.2f}, MAE: {mae:.2f}, R2: {r2:.2f}\")\n",
    "\n",
    "results_df = pd.DataFrame(results).sort_values('RMSE')\n",
    "print(f\"\\nBest overall model: {results_df.iloc[0]['Model']}\")\n",
    "\n",
    "best_model_name = results_df.iloc[0]['Model']\n",
    "\n"
   ]
  }
 ],
 "metadata": {
  "kernelspec": {
   "display_name": "Python 3",
   "language": "python",
   "name": "python3"
  },
  "language_info": {
   "codemirror_mode": {
    "name": "ipython",
    "version": 3
   },
   "file_extension": ".py",
   "mimetype": "text/x-python",
   "name": "python",
   "nbconvert_exporter": "python",
   "pygments_lexer": "ipython3",
   "version": "3.13.5"
  }
 },
 "nbformat": 4,
 "nbformat_minor": 5
}
